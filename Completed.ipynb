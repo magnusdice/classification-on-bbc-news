{
 "cells": [
  {
   "cell_type": "code",
   "execution_count": 1,
   "id": "5bdcf05d",
   "metadata": {},
   "outputs": [],
   "source": [
    "import numpy as np\n",
    "import pandas as pd\n",
    "import textwrap\n",
    "import nltk\n",
    "import os\n",
    "import re\n",
    "\n",
    "#DR\n",
    "from sklearn.datasets._twenty_newsgroups import fetch_20newsgroups\n",
    "from nltk.tokenize import word_tokenize\n",
    "from nltk.corpus import stopwords\n",
    "stop_words=set(stopwords.words(\"english\"))\n",
    "from sklearn.feature_extraction.text import CountVectorizer, TfidfVectorizer\n",
    "from nltk.stem.porter import PorterStemmer\n",
    "porter = PorterStemmer()\n",
    "from sklearn.preprocessing import LabelEncoder\n",
    "from gensim.corpora import Dictionary\n",
    "from nltk.stem import WordNetLemmatizer, SnowballStemmer\n",
    "snowball = SnowballStemmer(language='english')\n",
    "from nltk.tokenize import RegexpTokenizer\n",
    "\n",
    "#MachineLearning\n",
    "from sklearn.model_selection import train_test_split\n",
    "from sklearn.ensemble import RandomForestClassifier\n",
    "from sklearn.svm import LinearSVC\n",
    "from sklearn.metrics import classification_report\n",
    "import matplotlib.pyplot as plt "
   ]
  },
  {
   "cell_type": "code",
   "execution_count": 2,
   "id": "f647f027",
   "metadata": {},
   "outputs": [],
   "source": [
    "def preprocess(texts):\n",
    "    for n in range(0, len(texts)):\n",
    "        text = texts[n]\n",
    "        text = word_tokenize(text)\n",
    "        text = [word.lower() for word in text]\n",
    "        text = [word for word in text if word not in stop_words]\n",
    "        text = [word for word in text if word.isalpha()]\n",
    "        text = [porter.stem(word) for word in text]\n",
    "        text = \" \".join(text)\n",
    "        texts[n] = text\n",
    "    return texts"
   ]
  },
  {
   "cell_type": "code",
   "execution_count": 3,
   "id": "de9fff53",
   "metadata": {},
   "outputs": [],
   "source": [
    "# def merge(x):\n",
    "#     return textwrap.fill(x, replace_whitespace=False, fix_sentence_endings=True)"
   ]
  },
  {
   "cell_type": "code",
   "execution_count": 4,
   "id": "77e93911",
   "metadata": {},
   "outputs": [],
   "source": [
    "BBClabels = [] #y\n",
    "BBCX = []\n",
    "\n",
    "for dirname, _ , filenames in os.walk('D:Year 3 Sem 1/Text Mining/Assignment/bbc/'):\n",
    "    try:\n",
    "        filenames.remove('README.TXT')\n",
    "    except:\n",
    "        pass\n",
    "    for filename in filenames:\n",
    "          if filename.endswith(\".txt\"):\n",
    "                BBClabels.append(dirname.split(\"/\")[-1])\n",
    "                fullpathfile = os.path.join(dirname,filename)\n",
    "                with open(fullpathfile, 'r', encoding=\"utf8\", errors='ignore') as infile:\n",
    "                    intext = ''\n",
    "                    for line in infile:\n",
    "                        intext = intext + ' ' + line\n",
    "                    BBCX.append(intext)\n"
   ]
  },
  {
   "cell_type": "code",
   "execution_count": 5,
   "id": "a1cdebda",
   "metadata": {},
   "outputs": [],
   "source": [
    "\n",
    "#vectorizer = CountVectorizer()"
   ]
  },
  {
   "cell_type": "code",
   "execution_count": 6,
   "id": "17a194d0",
   "metadata": {},
   "outputs": [],
   "source": [
    "# dictionary = Dictionary(BBCdfpp)"
   ]
  },
  {
   "cell_type": "code",
   "execution_count": 7,
   "id": "492ec3c6",
   "metadata": {},
   "outputs": [
    {
     "data": {
      "text/html": [
       "<div>\n",
       "<style scoped>\n",
       "    .dataframe tbody tr th:only-of-type {\n",
       "        vertical-align: middle;\n",
       "    }\n",
       "\n",
       "    .dataframe tbody tr th {\n",
       "        vertical-align: top;\n",
       "    }\n",
       "\n",
       "    .dataframe thead th {\n",
       "        text-align: right;\n",
       "    }\n",
       "</style>\n",
       "<table border=\"1\" class=\"dataframe\">\n",
       "  <thead>\n",
       "    <tr style=\"text-align: right;\">\n",
       "      <th></th>\n",
       "      <th>text</th>\n",
       "      <th>labels</th>\n",
       "    </tr>\n",
       "  </thead>\n",
       "  <tbody>\n",
       "    <tr>\n",
       "      <th>0</th>\n",
       "      <td>Ad sales boost Time Warner profit\\n \\n Quarte...</td>\n",
       "      <td>business</td>\n",
       "    </tr>\n",
       "    <tr>\n",
       "      <th>1</th>\n",
       "      <td>Dollar gains on Greenspan speech\\n \\n The dol...</td>\n",
       "      <td>business</td>\n",
       "    </tr>\n",
       "    <tr>\n",
       "      <th>2</th>\n",
       "      <td>Yukos unit buyer faces loan claim\\n \\n The ow...</td>\n",
       "      <td>business</td>\n",
       "    </tr>\n",
       "    <tr>\n",
       "      <th>3</th>\n",
       "      <td>High fuel prices hit BA's profits\\n \\n Britis...</td>\n",
       "      <td>business</td>\n",
       "    </tr>\n",
       "    <tr>\n",
       "      <th>4</th>\n",
       "      <td>Pernod takeover talk lifts Domecq\\n \\n Shares...</td>\n",
       "      <td>business</td>\n",
       "    </tr>\n",
       "  </tbody>\n",
       "</table>\n",
       "</div>"
      ],
      "text/plain": [
       "                                                text    labels\n",
       "0   Ad sales boost Time Warner profit\\n \\n Quarte...  business\n",
       "1   Dollar gains on Greenspan speech\\n \\n The dol...  business\n",
       "2   Yukos unit buyer faces loan claim\\n \\n The ow...  business\n",
       "3   High fuel prices hit BA's profits\\n \\n Britis...  business\n",
       "4   Pernod takeover talk lifts Domecq\\n \\n Shares...  business"
      ]
     },
     "execution_count": 7,
     "metadata": {},
     "output_type": "execute_result"
    }
   ],
   "source": [
    "BBCdf = pd.DataFrame(list(zip(BBCX, BBClabels)), \n",
    "               columns =['text', 'labels'])\n",
    "\n",
    "\n",
    "BBCdf.head()"
   ]
  },
  {
   "cell_type": "code",
   "execution_count": 8,
   "id": "6723a6f9",
   "metadata": {},
   "outputs": [
    {
     "name": "stdout",
     "output_type": "stream",
     "text": [
      "business\n",
      "entertainment\n",
      "politics\n",
      "sport\n",
      "tech\n"
     ]
    }
   ],
   "source": [
    "for label in np.unique(BBCdf['labels']):\n",
    "    print(label)"
   ]
  },
  {
   "cell_type": "code",
   "execution_count": 9,
   "id": "3fd82bb3",
   "metadata": {},
   "outputs": [
    {
     "data": {
      "text/plain": [
       "(2225, 2)"
      ]
     },
     "execution_count": 9,
     "metadata": {},
     "output_type": "execute_result"
    }
   ],
   "source": [
    "BBCdf.shape"
   ]
  },
  {
   "cell_type": "code",
   "execution_count": 10,
   "id": "a0314e67",
   "metadata": {},
   "outputs": [
    {
     "data": {
      "text/plain": [
       "text      0\n",
       "labels    0\n",
       "dtype: int64"
      ]
     },
     "execution_count": 10,
     "metadata": {},
     "output_type": "execute_result"
    }
   ],
   "source": [
    "BBCdf.isnull().sum()"
   ]
  },
  {
   "cell_type": "code",
   "execution_count": 11,
   "id": "e094d0c2",
   "metadata": {},
   "outputs": [],
   "source": [
    "# LE = LabelEncoder()\n",
    "# # BBCdf.labels = pd.Categorical(BBCdf.labels)\n",
    "\n",
    "# BBCdf['labels'] = LE.fit_transform(BBCdf['labels'])"
   ]
  },
  {
   "cell_type": "code",
   "execution_count": 12,
   "id": "4df5a971",
   "metadata": {},
   "outputs": [],
   "source": [
    "# REPLACE_BY_SPACE_RE = re.compile('[/(){}\\[\\]\\|@,;]')\n",
    "# BAD_SYMBOLS_RE = re.compile('[^0-9a-z #+_]')\n",
    "\n",
    "# def clean_text(text):\n",
    "#     \"\"\"\n",
    "#         text: a string\n",
    "        \n",
    "#         return: modified initial string\n",
    "#     \"\"\"\n",
    "#     text = text.lower() # lowercase text\n",
    "#     text = REPLACE_BY_SPACE_RE.sub(' ', text) # replace REPLACE_BY_SPACE_RE symbols by space in text. substitute the matched string in REPLACE_BY_SPACE_RE with space.\n",
    "#     text = BAD_SYMBOLS_RE.sub('', text) # remove symbols which are in BAD_SYMBOLS_RE from text. substitute the matched string in BAD_SYMBOLS_RE with nothing. \n",
    "# #   text = re.sub(r'\\W+', '', text)\n",
    "#     text = ' '.join(word for word in text.split() if word not in stop_words) # remove stopwors from text\n",
    "#     return text"
   ]
  },
  {
   "cell_type": "code",
   "execution_count": 13,
   "id": "103b3cc8",
   "metadata": {},
   "outputs": [],
   "source": [
    "# BBCdf['text'] = BBCdf['text'].apply(clean_text)\n",
    "# BBCdf['text'] = BBCdf['text'].str.replace('\\d+', '')\n",
    "# BBCdf.head()"
   ]
  },
  {
   "cell_type": "code",
   "execution_count": 14,
   "id": "e814ba46",
   "metadata": {
    "scrolled": false
   },
   "outputs": [
    {
     "data": {
      "text/html": [
       "<div>\n",
       "<style scoped>\n",
       "    .dataframe tbody tr th:only-of-type {\n",
       "        vertical-align: middle;\n",
       "    }\n",
       "\n",
       "    .dataframe tbody tr th {\n",
       "        vertical-align: top;\n",
       "    }\n",
       "\n",
       "    .dataframe thead th {\n",
       "        text-align: right;\n",
       "    }\n",
       "</style>\n",
       "<table border=\"1\" class=\"dataframe\">\n",
       "  <thead>\n",
       "    <tr style=\"text-align: right;\">\n",
       "      <th></th>\n",
       "      <th>text</th>\n",
       "      <th>labels</th>\n",
       "    </tr>\n",
       "  </thead>\n",
       "  <tbody>\n",
       "    <tr>\n",
       "      <th>0</th>\n",
       "      <td>Ad sales boost Time Warner profit\\n \\n Quarte...</td>\n",
       "      <td>business</td>\n",
       "    </tr>\n",
       "    <tr>\n",
       "      <th>1</th>\n",
       "      <td>Dollar gains on Greenspan speech\\n \\n The dol...</td>\n",
       "      <td>business</td>\n",
       "    </tr>\n",
       "    <tr>\n",
       "      <th>2</th>\n",
       "      <td>Yukos unit buyer faces loan claim\\n \\n The ow...</td>\n",
       "      <td>business</td>\n",
       "    </tr>\n",
       "    <tr>\n",
       "      <th>3</th>\n",
       "      <td>High fuel prices hit BA's profits\\n \\n Britis...</td>\n",
       "      <td>business</td>\n",
       "    </tr>\n",
       "    <tr>\n",
       "      <th>4</th>\n",
       "      <td>Pernod takeover talk lifts Domecq\\n \\n Shares...</td>\n",
       "      <td>business</td>\n",
       "    </tr>\n",
       "  </tbody>\n",
       "</table>\n",
       "</div>"
      ],
      "text/plain": [
       "                                                text    labels\n",
       "0   Ad sales boost Time Warner profit\\n \\n Quarte...  business\n",
       "1   Dollar gains on Greenspan speech\\n \\n The dol...  business\n",
       "2   Yukos unit buyer faces loan claim\\n \\n The ow...  business\n",
       "3   High fuel prices hit BA's profits\\n \\n Britis...  business\n",
       "4   Pernod takeover talk lifts Domecq\\n \\n Shares...  business"
      ]
     },
     "execution_count": 14,
     "metadata": {},
     "output_type": "execute_result"
    }
   ],
   "source": [
    "BBCdf.head()"
   ]
  },
  {
   "cell_type": "code",
   "execution_count": 15,
   "id": "931d861e",
   "metadata": {},
   "outputs": [],
   "source": [
    "# bbcXX = np.array(BBCdf['text'])"
   ]
  },
  {
   "cell_type": "code",
   "execution_count": 16,
   "id": "e35de341",
   "metadata": {},
   "outputs": [],
   "source": [
    "# bbcXpp = preprocess(bbcXX)"
   ]
  },
  {
   "cell_type": "markdown",
   "id": "83e0263c",
   "metadata": {},
   "source": [
    "# NewsGroup"
   ]
  },
  {
   "cell_type": "code",
   "execution_count": 17,
   "id": "c8746e2e",
   "metadata": {},
   "outputs": [],
   "source": [
    "remove = ('headers', 'footers', 'quotes')"
   ]
  },
  {
   "cell_type": "code",
   "execution_count": 18,
   "id": "1c3ca047",
   "metadata": {},
   "outputs": [],
   "source": [
    "# category = ['alt.atheism',\n",
    "#  'comp.graphics',\n",
    "#  'comp.os.ms-windows.misc',\n",
    "#  'comp.sys.ibm.pc.hardware',\n",
    "#  'comp.sys.mac.hardware',\n",
    "#  'comp.windows.x',\n",
    "#  'misc.forsale',\n",
    "#  'rec.autos',\n",
    "#  'rec.motorcycles',\n",
    "#  'rec.sport.baseball',\n",
    "#  'rec.sport.hockey',\n",
    "#  'sci.crypt',\n",
    "#  'sci.electronics',\n",
    "#  'sci.med',\n",
    "#  'sci.space',\n",
    "#  'soc.religion.christian',\n",
    "#  'talk.politics.guns',\n",
    "#  'talk.politics.mideast',\n",
    "#  'talk.politics.misc',\n",
    "#  'talk.religion.misc']\n",
    "\n",
    "category = ['comp.sys.ibm.pc.hardware',\n",
    "            'comp.windows.x','rec.autos','talk.politics.misc',]"
   ]
  },
  {
   "cell_type": "code",
   "execution_count": 19,
   "id": "1535b1e5",
   "metadata": {},
   "outputs": [],
   "source": [
    "twenNews = fetch_20newsgroups(categories=category, remove=remove) \n",
    "#twenPP = preprocess(twenNews.data)"
   ]
  },
  {
   "cell_type": "code",
   "execution_count": 20,
   "id": "a771993b",
   "metadata": {},
   "outputs": [],
   "source": [
    "twenNewsDF= pd.Series(twenNews.data) \n",
    "twenNewsDF =pd.DataFrame(twenNewsDF) \n",
    "twenNewsDF.columns = ['text'] + twenNewsDF.columns.tolist()[1:] \n",
    "twenNewsDF['labels'] = pd.Series(twenNews.target)"
   ]
  },
  {
   "cell_type": "code",
   "execution_count": 21,
   "id": "5b186939",
   "metadata": {},
   "outputs": [
    {
     "data": {
      "text/html": [
       "<div>\n",
       "<style scoped>\n",
       "    .dataframe tbody tr th:only-of-type {\n",
       "        vertical-align: middle;\n",
       "    }\n",
       "\n",
       "    .dataframe tbody tr th {\n",
       "        vertical-align: top;\n",
       "    }\n",
       "\n",
       "    .dataframe thead th {\n",
       "        text-align: right;\n",
       "    }\n",
       "</style>\n",
       "<table border=\"1\" class=\"dataframe\">\n",
       "  <thead>\n",
       "    <tr style=\"text-align: right;\">\n",
       "      <th></th>\n",
       "      <th>text</th>\n",
       "      <th>labels</th>\n",
       "    </tr>\n",
       "  </thead>\n",
       "  <tbody>\n",
       "    <tr>\n",
       "      <th>0</th>\n",
       "      <td>\\n\\nTry this:\\n\\nchar *name=NULL;\\nunsigned lo...</td>\n",
       "      <td>1</td>\n",
       "    </tr>\n",
       "    <tr>\n",
       "      <th>1</th>\n",
       "      <td>}Crazy question: \"Anyone ever wonder how birds...</td>\n",
       "      <td>2</td>\n",
       "    </tr>\n",
       "    <tr>\n",
       "      <th>2</th>\n",
       "      <td>\\nIt's not what they did that matters.  It's w...</td>\n",
       "      <td>3</td>\n",
       "    </tr>\n",
       "    <tr>\n",
       "      <th>3</th>\n",
       "      <td>ajteel@dendrite.cs.Colorado.EDU (A.J. Teel) w...</td>\n",
       "      <td>3</td>\n",
       "    </tr>\n",
       "    <tr>\n",
       "      <th>4</th>\n",
       "      <td>\\nHow about those toneau covers? I've been thi...</td>\n",
       "      <td>2</td>\n",
       "    </tr>\n",
       "  </tbody>\n",
       "</table>\n",
       "</div>"
      ],
      "text/plain": [
       "                                                text  labels\n",
       "0  \\n\\nTry this:\\n\\nchar *name=NULL;\\nunsigned lo...       1\n",
       "1  }Crazy question: \"Anyone ever wonder how birds...       2\n",
       "2  \\nIt's not what they did that matters.  It's w...       3\n",
       "3   ajteel@dendrite.cs.Colorado.EDU (A.J. Teel) w...       3\n",
       "4  \\nHow about those toneau covers? I've been thi...       2"
      ]
     },
     "execution_count": 21,
     "metadata": {},
     "output_type": "execute_result"
    }
   ],
   "source": [
    "twenNewsDF.head()"
   ]
  },
  {
   "cell_type": "code",
   "execution_count": 22,
   "id": "7d5312db",
   "metadata": {},
   "outputs": [
    {
     "data": {
      "text/html": [
       "<div>\n",
       "<style scoped>\n",
       "    .dataframe tbody tr th:only-of-type {\n",
       "        vertical-align: middle;\n",
       "    }\n",
       "\n",
       "    .dataframe tbody tr th {\n",
       "        vertical-align: top;\n",
       "    }\n",
       "\n",
       "    .dataframe thead th {\n",
       "        text-align: right;\n",
       "    }\n",
       "</style>\n",
       "<table border=\"1\" class=\"dataframe\">\n",
       "  <thead>\n",
       "    <tr style=\"text-align: right;\">\n",
       "      <th></th>\n",
       "      <th>text</th>\n",
       "      <th>labels</th>\n",
       "    </tr>\n",
       "  </thead>\n",
       "  <tbody>\n",
       "    <tr>\n",
       "      <th>2237</th>\n",
       "      <td>Hi,\\n\\nI am about to write an application in X...</td>\n",
       "      <td>1</td>\n",
       "    </tr>\n",
       "    <tr>\n",
       "      <th>2238</th>\n",
       "      <td>\\n\\nSomething that happened in South AFrica ab...</td>\n",
       "      <td>2</td>\n",
       "    </tr>\n",
       "    <tr>\n",
       "      <th>2239</th>\n",
       "      <td>\\nThere is something going on here.  It seems ...</td>\n",
       "      <td>2</td>\n",
       "    </tr>\n",
       "    <tr>\n",
       "      <th>2240</th>\n",
       "      <td>I have been unable to get COM 4 to work - diag...</td>\n",
       "      <td>0</td>\n",
       "    </tr>\n",
       "    <tr>\n",
       "      <th>2241</th>\n",
       "      <td>ites:</td>\n",
       "      <td>2</td>\n",
       "    </tr>\n",
       "  </tbody>\n",
       "</table>\n",
       "</div>"
      ],
      "text/plain": [
       "                                                   text  labels\n",
       "2237  Hi,\\n\\nI am about to write an application in X...       1\n",
       "2238  \\n\\nSomething that happened in South AFrica ab...       2\n",
       "2239  \\nThere is something going on here.  It seems ...       2\n",
       "2240  I have been unable to get COM 4 to work - diag...       0\n",
       "2241                                              ites:       2"
      ]
     },
     "execution_count": 22,
     "metadata": {},
     "output_type": "execute_result"
    }
   ],
   "source": [
    "twenNewsDF.tail()"
   ]
  },
  {
   "cell_type": "code",
   "execution_count": 23,
   "id": "5c2f8046",
   "metadata": {},
   "outputs": [
    {
     "name": "stdout",
     "output_type": "stream",
     "text": [
      "text      object\n",
      "labels     int64\n",
      "dtype: object\n"
     ]
    }
   ],
   "source": [
    "print(twenNewsDF.dtypes)"
   ]
  },
  {
   "cell_type": "code",
   "execution_count": 24,
   "id": "aa7a1475",
   "metadata": {},
   "outputs": [],
   "source": [
    "twenNewsDF['labels'] = twenNewsDF['labels'].astype(str)"
   ]
  },
  {
   "cell_type": "code",
   "execution_count": 25,
   "id": "178fd2a8",
   "metadata": {},
   "outputs": [
    {
     "name": "stdout",
     "output_type": "stream",
     "text": [
      "text      object\n",
      "labels    object\n",
      "dtype: object\n"
     ]
    }
   ],
   "source": [
    "print(twenNewsDF.dtypes)"
   ]
  },
  {
   "cell_type": "markdown",
   "id": "51b46fd6",
   "metadata": {},
   "source": [
    "# Combine"
   ]
  },
  {
   "cell_type": "code",
   "execution_count": 26,
   "id": "d539138e",
   "metadata": {},
   "outputs": [],
   "source": [
    "dfCom = pd.concat([BBCdf,twenNewsDF],ignore_index=True)"
   ]
  },
  {
   "cell_type": "code",
   "execution_count": 27,
   "id": "24a3c74e",
   "metadata": {
    "scrolled": false
   },
   "outputs": [
    {
     "data": {
      "text/html": [
       "<div>\n",
       "<style scoped>\n",
       "    .dataframe tbody tr th:only-of-type {\n",
       "        vertical-align: middle;\n",
       "    }\n",
       "\n",
       "    .dataframe tbody tr th {\n",
       "        vertical-align: top;\n",
       "    }\n",
       "\n",
       "    .dataframe thead th {\n",
       "        text-align: right;\n",
       "    }\n",
       "</style>\n",
       "<table border=\"1\" class=\"dataframe\">\n",
       "  <thead>\n",
       "    <tr style=\"text-align: right;\">\n",
       "      <th></th>\n",
       "      <th>text</th>\n",
       "      <th>labels</th>\n",
       "    </tr>\n",
       "  </thead>\n",
       "  <tbody>\n",
       "    <tr>\n",
       "      <th>0</th>\n",
       "      <td>Ad sales boost Time Warner profit\\n \\n Quarte...</td>\n",
       "      <td>business</td>\n",
       "    </tr>\n",
       "    <tr>\n",
       "      <th>1</th>\n",
       "      <td>Dollar gains on Greenspan speech\\n \\n The dol...</td>\n",
       "      <td>business</td>\n",
       "    </tr>\n",
       "    <tr>\n",
       "      <th>2</th>\n",
       "      <td>Yukos unit buyer faces loan claim\\n \\n The ow...</td>\n",
       "      <td>business</td>\n",
       "    </tr>\n",
       "    <tr>\n",
       "      <th>3</th>\n",
       "      <td>High fuel prices hit BA's profits\\n \\n Britis...</td>\n",
       "      <td>business</td>\n",
       "    </tr>\n",
       "    <tr>\n",
       "      <th>4</th>\n",
       "      <td>Pernod takeover talk lifts Domecq\\n \\n Shares...</td>\n",
       "      <td>business</td>\n",
       "    </tr>\n",
       "  </tbody>\n",
       "</table>\n",
       "</div>"
      ],
      "text/plain": [
       "                                                text    labels\n",
       "0   Ad sales boost Time Warner profit\\n \\n Quarte...  business\n",
       "1   Dollar gains on Greenspan speech\\n \\n The dol...  business\n",
       "2   Yukos unit buyer faces loan claim\\n \\n The ow...  business\n",
       "3   High fuel prices hit BA's profits\\n \\n Britis...  business\n",
       "4   Pernod takeover talk lifts Domecq\\n \\n Shares...  business"
      ]
     },
     "execution_count": 27,
     "metadata": {},
     "output_type": "execute_result"
    }
   ],
   "source": [
    "dfCom.head()"
   ]
  },
  {
   "cell_type": "code",
   "execution_count": 28,
   "id": "e871c1a0",
   "metadata": {},
   "outputs": [
    {
     "data": {
      "text/html": [
       "<div>\n",
       "<style scoped>\n",
       "    .dataframe tbody tr th:only-of-type {\n",
       "        vertical-align: middle;\n",
       "    }\n",
       "\n",
       "    .dataframe tbody tr th {\n",
       "        vertical-align: top;\n",
       "    }\n",
       "\n",
       "    .dataframe thead th {\n",
       "        text-align: right;\n",
       "    }\n",
       "</style>\n",
       "<table border=\"1\" class=\"dataframe\">\n",
       "  <thead>\n",
       "    <tr style=\"text-align: right;\">\n",
       "      <th></th>\n",
       "      <th>text</th>\n",
       "      <th>labels</th>\n",
       "    </tr>\n",
       "  </thead>\n",
       "  <tbody>\n",
       "    <tr>\n",
       "      <th>4462</th>\n",
       "      <td>Hi,\\n\\nI am about to write an application in X...</td>\n",
       "      <td>1</td>\n",
       "    </tr>\n",
       "    <tr>\n",
       "      <th>4463</th>\n",
       "      <td>\\n\\nSomething that happened in South AFrica ab...</td>\n",
       "      <td>2</td>\n",
       "    </tr>\n",
       "    <tr>\n",
       "      <th>4464</th>\n",
       "      <td>\\nThere is something going on here.  It seems ...</td>\n",
       "      <td>2</td>\n",
       "    </tr>\n",
       "    <tr>\n",
       "      <th>4465</th>\n",
       "      <td>I have been unable to get COM 4 to work - diag...</td>\n",
       "      <td>0</td>\n",
       "    </tr>\n",
       "    <tr>\n",
       "      <th>4466</th>\n",
       "      <td>ites:</td>\n",
       "      <td>2</td>\n",
       "    </tr>\n",
       "  </tbody>\n",
       "</table>\n",
       "</div>"
      ],
      "text/plain": [
       "                                                   text labels\n",
       "4462  Hi,\\n\\nI am about to write an application in X...      1\n",
       "4463  \\n\\nSomething that happened in South AFrica ab...      2\n",
       "4464  \\nThere is something going on here.  It seems ...      2\n",
       "4465  I have been unable to get COM 4 to work - diag...      0\n",
       "4466                                              ites:      2"
      ]
     },
     "execution_count": 28,
     "metadata": {},
     "output_type": "execute_result"
    }
   ],
   "source": [
    "dfCom.tail()"
   ]
  },
  {
   "cell_type": "code",
   "execution_count": 29,
   "id": "000c3bae",
   "metadata": {},
   "outputs": [
    {
     "data": {
      "text/plain": [
       "4467"
      ]
     },
     "execution_count": 29,
     "metadata": {},
     "output_type": "execute_result"
    }
   ],
   "source": [
    "len(dfCom)"
   ]
  },
  {
   "cell_type": "code",
   "execution_count": 30,
   "id": "b12655e6",
   "metadata": {},
   "outputs": [
    {
     "data": {
      "text/html": [
       "<div>\n",
       "<style scoped>\n",
       "    .dataframe tbody tr th:only-of-type {\n",
       "        vertical-align: middle;\n",
       "    }\n",
       "\n",
       "    .dataframe tbody tr th {\n",
       "        vertical-align: top;\n",
       "    }\n",
       "\n",
       "    .dataframe thead th {\n",
       "        text-align: right;\n",
       "    }\n",
       "</style>\n",
       "<table border=\"1\" class=\"dataframe\">\n",
       "  <thead>\n",
       "    <tr style=\"text-align: right;\">\n",
       "      <th></th>\n",
       "      <th>text</th>\n",
       "      <th>labels</th>\n",
       "    </tr>\n",
       "  </thead>\n",
       "  <tbody>\n",
       "    <tr>\n",
       "      <th>83</th>\n",
       "      <td>Mexican in US send $16bn home\\n \\n Mexican la...</td>\n",
       "      <td>business</td>\n",
       "    </tr>\n",
       "    <tr>\n",
       "      <th>84</th>\n",
       "      <td>Home loan approvals rising again\\n \\n The num...</td>\n",
       "      <td>business</td>\n",
       "    </tr>\n",
       "    <tr>\n",
       "      <th>85</th>\n",
       "      <td>Manufacturing recovery 'slowing'\\n \\n UK manu...</td>\n",
       "      <td>business</td>\n",
       "    </tr>\n",
       "    <tr>\n",
       "      <th>86</th>\n",
       "      <td>Worldcom boss 'left books alone'\\n \\n Former ...</td>\n",
       "      <td>business</td>\n",
       "    </tr>\n",
       "    <tr>\n",
       "      <th>87</th>\n",
       "      <td>Metlife buys up Citigroup insurer\\n \\n US ban...</td>\n",
       "      <td>business</td>\n",
       "    </tr>\n",
       "    <tr>\n",
       "      <th>88</th>\n",
       "      <td>Europe blames US over weak dollar\\n \\n Europe...</td>\n",
       "      <td>business</td>\n",
       "    </tr>\n",
       "    <tr>\n",
       "      <th>89</th>\n",
       "      <td>French wine gets 70m euro top-up\\n \\n The Fre...</td>\n",
       "      <td>business</td>\n",
       "    </tr>\n",
       "    <tr>\n",
       "      <th>90</th>\n",
       "      <td>Russia gets investment blessing\\n \\n Soaring ...</td>\n",
       "      <td>business</td>\n",
       "    </tr>\n",
       "    <tr>\n",
       "      <th>91</th>\n",
       "      <td>Iranian MPs threaten mobile deal\\n \\n Turkey'...</td>\n",
       "      <td>business</td>\n",
       "    </tr>\n",
       "    <tr>\n",
       "      <th>92</th>\n",
       "      <td>Argentina closes $102.6bn debt swap\\n \\n Arge...</td>\n",
       "      <td>business</td>\n",
       "    </tr>\n",
       "  </tbody>\n",
       "</table>\n",
       "</div>"
      ],
      "text/plain": [
       "                                                 text    labels\n",
       "83   Mexican in US send $16bn home\\n \\n Mexican la...  business\n",
       "84   Home loan approvals rising again\\n \\n The num...  business\n",
       "85   Manufacturing recovery 'slowing'\\n \\n UK manu...  business\n",
       "86   Worldcom boss 'left books alone'\\n \\n Former ...  business\n",
       "87   Metlife buys up Citigroup insurer\\n \\n US ban...  business\n",
       "88   Europe blames US over weak dollar\\n \\n Europe...  business\n",
       "89   French wine gets 70m euro top-up\\n \\n The Fre...  business\n",
       "90   Russia gets investment blessing\\n \\n Soaring ...  business\n",
       "91   Iranian MPs threaten mobile deal\\n \\n Turkey'...  business\n",
       "92   Argentina closes $102.6bn debt swap\\n \\n Arge...  business"
      ]
     },
     "execution_count": 30,
     "metadata": {},
     "output_type": "execute_result"
    }
   ],
   "source": [
    "dfCom.iloc[83:93,:]"
   ]
  },
  {
   "cell_type": "code",
   "execution_count": 31,
   "id": "31fff434",
   "metadata": {},
   "outputs": [],
   "source": [
    "dfCom['number_of_stopwords'] = dfCom.text.apply(lambda x: len([i for i in x.split() if i in stop_words]))"
   ]
  },
  {
   "cell_type": "code",
   "execution_count": 32,
   "id": "33b77a9e",
   "metadata": {
    "scrolled": false
   },
   "outputs": [
    {
     "data": {
      "text/html": [
       "<div>\n",
       "<style scoped>\n",
       "    .dataframe tbody tr th:only-of-type {\n",
       "        vertical-align: middle;\n",
       "    }\n",
       "\n",
       "    .dataframe tbody tr th {\n",
       "        vertical-align: top;\n",
       "    }\n",
       "\n",
       "    .dataframe thead th {\n",
       "        text-align: right;\n",
       "    }\n",
       "</style>\n",
       "<table border=\"1\" class=\"dataframe\">\n",
       "  <thead>\n",
       "    <tr style=\"text-align: right;\">\n",
       "      <th></th>\n",
       "      <th>text</th>\n",
       "      <th>labels</th>\n",
       "      <th>number_of_stopwords</th>\n",
       "    </tr>\n",
       "  </thead>\n",
       "  <tbody>\n",
       "    <tr>\n",
       "      <th>0</th>\n",
       "      <td>Ad sales boost Time Warner profit\\n \\n Quarte...</td>\n",
       "      <td>business</td>\n",
       "      <td>151</td>\n",
       "    </tr>\n",
       "    <tr>\n",
       "      <th>1</th>\n",
       "      <td>Dollar gains on Greenspan speech\\n \\n The dol...</td>\n",
       "      <td>business</td>\n",
       "      <td>138</td>\n",
       "    </tr>\n",
       "    <tr>\n",
       "      <th>2</th>\n",
       "      <td>Yukos unit buyer faces loan claim\\n \\n The ow...</td>\n",
       "      <td>business</td>\n",
       "      <td>100</td>\n",
       "    </tr>\n",
       "    <tr>\n",
       "      <th>3</th>\n",
       "      <td>High fuel prices hit BA's profits\\n \\n Britis...</td>\n",
       "      <td>business</td>\n",
       "      <td>129</td>\n",
       "    </tr>\n",
       "    <tr>\n",
       "      <th>4</th>\n",
       "      <td>Pernod takeover talk lifts Domecq\\n \\n Shares...</td>\n",
       "      <td>business</td>\n",
       "      <td>91</td>\n",
       "    </tr>\n",
       "  </tbody>\n",
       "</table>\n",
       "</div>"
      ],
      "text/plain": [
       "                                                text    labels  \\\n",
       "0   Ad sales boost Time Warner profit\\n \\n Quarte...  business   \n",
       "1   Dollar gains on Greenspan speech\\n \\n The dol...  business   \n",
       "2   Yukos unit buyer faces loan claim\\n \\n The ow...  business   \n",
       "3   High fuel prices hit BA's profits\\n \\n Britis...  business   \n",
       "4   Pernod takeover talk lifts Domecq\\n \\n Shares...  business   \n",
       "\n",
       "   number_of_stopwords  \n",
       "0                  151  \n",
       "1                  138  \n",
       "2                  100  \n",
       "3                  129  \n",
       "4                   91  "
      ]
     },
     "execution_count": 32,
     "metadata": {},
     "output_type": "execute_result"
    }
   ],
   "source": [
    "dfCom.head()"
   ]
  },
  {
   "cell_type": "code",
   "execution_count": 33,
   "id": "f6c1f24b",
   "metadata": {},
   "outputs": [
    {
     "name": "stdout",
     "output_type": "stream",
     "text": [
      "Total of stop words in the documents: 474615\n"
     ]
    }
   ],
   "source": [
    "Total = dfCom['number_of_stopwords'].sum()\n",
    "print(\"Total of stop words in the documents:\", Total)"
   ]
  },
  {
   "cell_type": "code",
   "execution_count": 34,
   "id": "3ac9ab20",
   "metadata": {},
   "outputs": [
    {
     "name": "stdout",
     "output_type": "stream",
     "text": [
      "text                   object\n",
      "labels                 object\n",
      "number_of_stopwords     int64\n",
      "dtype: object\n"
     ]
    }
   ],
   "source": [
    "print(dfCom.dtypes)"
   ]
  },
  {
   "cell_type": "code",
   "execution_count": 35,
   "id": "3b13844e",
   "metadata": {},
   "outputs": [],
   "source": [
    "LE = LabelEncoder()\n",
    "# BBCdf.labels = pd.Categorical(BBCdf.labels)\n",
    "\n",
    "dfCom['labels'] = LE.fit_transform(dfCom['labels'])"
   ]
  },
  {
   "cell_type": "code",
   "execution_count": 36,
   "id": "82977f05",
   "metadata": {},
   "outputs": [
    {
     "name": "stdout",
     "output_type": "stream",
     "text": [
      "text                   object\n",
      "labels                  int32\n",
      "number_of_stopwords     int64\n",
      "dtype: object\n"
     ]
    }
   ],
   "source": [
    "print(dfCom.dtypes)"
   ]
  },
  {
   "cell_type": "code",
   "execution_count": 37,
   "id": "e1135a4c",
   "metadata": {},
   "outputs": [],
   "source": [
    "# df_txt = np.array(dfCom['text'])\n"
   ]
  },
  {
   "cell_type": "code",
   "execution_count": 38,
   "id": "3a38bba1",
   "metadata": {
    "scrolled": false
   },
   "outputs": [
    {
     "name": "stderr",
     "output_type": "stream",
     "text": [
      "C:\\Users\\rolld\\AppData\\Local\\Temp\\ipykernel_14272\\3269742640.py:10: SettingWithCopyWarning: \n",
      "A value is trying to be set on a copy of a slice from a DataFrame\n",
      "\n",
      "See the caveats in the documentation: https://pandas.pydata.org/pandas-docs/stable/user_guide/indexing.html#returning-a-view-versus-a-copy\n",
      "  texts[n] = text\n"
     ]
    }
   ],
   "source": [
    "dfComPP = preprocess(dfCom.text)"
   ]
  },
  {
   "cell_type": "code",
   "execution_count": 39,
   "id": "60e8b867",
   "metadata": {},
   "outputs": [],
   "source": [
    "a = dfCom['text'].str.lower().str.cat(sep=' ')\n",
    "b = dfComPP.str.cat(sep = ' ')\n",
    "wordss = nltk.tokenize.word_tokenize(a)\n",
    "wordssb = nltk.tokenize.word_tokenize(b)\n",
    "word_dist = nltk.FreqDist(wordss)\n",
    "word_distb = nltk.FreqDist(wordssb)"
   ]
  },
  {
   "cell_type": "code",
   "execution_count": 40,
   "id": "50cd2f38",
   "metadata": {},
   "outputs": [
    {
     "name": "stdout",
     "output_type": "stream",
     "text": [
      "<FreqDist with 25826 samples and 673255 outcomes>\n"
     ]
    }
   ],
   "source": [
    "top_N = 10\n",
    "print(word_dist)\n",
    "rslt = pd.DataFrame(word_dist.most_common(top_N),\n",
    "                    columns=['Word', 'Frequency'])\n",
    "\n",
    "rsltb = pd.DataFrame(word_distb.most_common(top_N),\n",
    "                    columns=['Word', 'Frequency'])\n"
   ]
  },
  {
   "cell_type": "code",
   "execution_count": 41,
   "id": "f97c3b74",
   "metadata": {},
   "outputs": [
    {
     "name": "stdout",
     "output_type": "stream",
     "text": [
      "    Word  Frequency\n",
      "0   said       7537\n",
      "1      x       4818\n",
      "2  would       3883\n",
      "3    use       3476\n",
      "4   year       3289\n",
      "5     mr       3035\n",
      "6    one       2946\n",
      "7   also       2903\n",
      "8  peopl       2739\n",
      "9    new       2536\n"
     ]
    }
   ],
   "source": [
    "print(rslt)"
   ]
  },
  {
   "cell_type": "code",
   "execution_count": 42,
   "id": "a27638cf",
   "metadata": {},
   "outputs": [
    {
     "name": "stdout",
     "output_type": "stream",
     "text": [
      "    Word  Frequency\n",
      "0   said       7537\n",
      "1      x       4818\n",
      "2  would       3883\n",
      "3    use       3476\n",
      "4   year       3289\n",
      "5     mr       3035\n",
      "6    one       2946\n",
      "7   also       2903\n",
      "8  peopl       2739\n",
      "9    new       2536\n"
     ]
    }
   ],
   "source": [
    "print(rsltb)"
   ]
  },
  {
   "cell_type": "code",
   "execution_count": 43,
   "id": "d5c215a4",
   "metadata": {},
   "outputs": [
    {
     "name": "stdout",
     "output_type": "stream",
     "text": [
      "said mr 367\n",
      "told bbc 362\n",
      "prime minist 338\n",
      "mr blair 334\n",
      "mr brown 255\n",
      "new york 208\n",
      "chief execut 206\n",
      "year ago 204\n",
      "toni blair 186\n",
      "mobil phone 183\n",
      "bbc news 179\n",
      "lib dem 178\n",
      "gener elect 177\n",
      "mr howard 160\n",
      "liber democrat 158\n",
      "unit state 143\n",
      "make sure 139\n",
      "michael howard 130\n",
      "window manag 129\n",
      "look like 122\n"
     ]
    },
    {
     "data": {
      "text/html": [
       "<div>\n",
       "<style scoped>\n",
       "    .dataframe tbody tr th:only-of-type {\n",
       "        vertical-align: middle;\n",
       "    }\n",
       "\n",
       "    .dataframe tbody tr th {\n",
       "        vertical-align: top;\n",
       "    }\n",
       "\n",
       "    .dataframe thead th {\n",
       "        text-align: right;\n",
       "    }\n",
       "</style>\n",
       "<table border=\"1\" class=\"dataframe\">\n",
       "  <thead>\n",
       "    <tr style=\"text-align: right;\">\n",
       "      <th></th>\n",
       "      <th>text</th>\n",
       "      <th>count</th>\n",
       "    </tr>\n",
       "  </thead>\n",
       "  <tbody>\n",
       "    <tr>\n",
       "      <th>0</th>\n",
       "      <td>said mr</td>\n",
       "      <td>367</td>\n",
       "    </tr>\n",
       "    <tr>\n",
       "      <th>1</th>\n",
       "      <td>told bbc</td>\n",
       "      <td>362</td>\n",
       "    </tr>\n",
       "    <tr>\n",
       "      <th>2</th>\n",
       "      <td>prime minist</td>\n",
       "      <td>338</td>\n",
       "    </tr>\n",
       "    <tr>\n",
       "      <th>3</th>\n",
       "      <td>mr blair</td>\n",
       "      <td>334</td>\n",
       "    </tr>\n",
       "    <tr>\n",
       "      <th>4</th>\n",
       "      <td>mr brown</td>\n",
       "      <td>255</td>\n",
       "    </tr>\n",
       "    <tr>\n",
       "      <th>5</th>\n",
       "      <td>new york</td>\n",
       "      <td>208</td>\n",
       "    </tr>\n",
       "    <tr>\n",
       "      <th>6</th>\n",
       "      <td>chief execut</td>\n",
       "      <td>206</td>\n",
       "    </tr>\n",
       "    <tr>\n",
       "      <th>7</th>\n",
       "      <td>year ago</td>\n",
       "      <td>204</td>\n",
       "    </tr>\n",
       "    <tr>\n",
       "      <th>8</th>\n",
       "      <td>toni blair</td>\n",
       "      <td>186</td>\n",
       "    </tr>\n",
       "    <tr>\n",
       "      <th>9</th>\n",
       "      <td>mobil phone</td>\n",
       "      <td>183</td>\n",
       "    </tr>\n",
       "  </tbody>\n",
       "</table>\n",
       "</div>"
      ],
      "text/plain": [
       "           text  count\n",
       "0       said mr    367\n",
       "1      told bbc    362\n",
       "2  prime minist    338\n",
       "3      mr blair    334\n",
       "4      mr brown    255\n",
       "5      new york    208\n",
       "6  chief execut    206\n",
       "7      year ago    204\n",
       "8    toni blair    186\n",
       "9   mobil phone    183"
      ]
     },
     "execution_count": 43,
     "metadata": {},
     "output_type": "execute_result"
    }
   ],
   "source": [
    "def get_top_n_bigram(corpus, n=None):\n",
    "    vec = CountVectorizer(ngram_range=(2,2), stop_words = 'english').fit(corpus)\n",
    "    bag_of_words = vec.transform(corpus)\n",
    "    sum_words = bag_of_words.sum(axis=0)\n",
    "    words_freq = [(word,sum_words[0,idx]) for word, idx in vec.vocabulary_.items()]\n",
    "    words_freq = sorted(words_freq, key=lambda x:x[1],reverse = True)\n",
    "    return words_freq[:n]\n",
    "common_words2 = get_top_n_bigram(dfCom['text'],20)\n",
    "\n",
    "for word, freq in common_words2:\n",
    "    print(word,freq)\n",
    "    \n",
    "ngramDF = pd.DataFrame(common_words2,columns = ['text','count'])\n",
    "ngramDF.head(10)"
   ]
  },
  {
   "cell_type": "code",
   "execution_count": 44,
   "id": "605ede9f",
   "metadata": {},
   "outputs": [
    {
     "data": {
      "text/html": [
       "<div>\n",
       "<style scoped>\n",
       "    .dataframe tbody tr th:only-of-type {\n",
       "        vertical-align: middle;\n",
       "    }\n",
       "\n",
       "    .dataframe tbody tr th {\n",
       "        vertical-align: top;\n",
       "    }\n",
       "\n",
       "    .dataframe thead th {\n",
       "        text-align: right;\n",
       "    }\n",
       "</style>\n",
       "<table border=\"1\" class=\"dataframe\">\n",
       "  <thead>\n",
       "    <tr style=\"text-align: right;\">\n",
       "      <th></th>\n",
       "      <th>text</th>\n",
       "      <th>labels</th>\n",
       "      <th>number_of_stopwords</th>\n",
       "    </tr>\n",
       "  </thead>\n",
       "  <tbody>\n",
       "    <tr>\n",
       "      <th>83</th>\n",
       "      <td>mexican us send home mexican labour live us se...</td>\n",
       "      <td>4</td>\n",
       "      <td>73</td>\n",
       "    </tr>\n",
       "    <tr>\n",
       "      <th>84</th>\n",
       "      <td>home loan approv rise number mortgag approv uk...</td>\n",
       "      <td>4</td>\n",
       "      <td>80</td>\n",
       "    </tr>\n",
       "    <tr>\n",
       "      <th>85</th>\n",
       "      <td>manufactur recoveri uk manufactur grew slowest...</td>\n",
       "      <td>4</td>\n",
       "      <td>62</td>\n",
       "    </tr>\n",
       "    <tr>\n",
       "      <th>86</th>\n",
       "      <td>worldcom boss book former worldcom boss berni ...</td>\n",
       "      <td>4</td>\n",
       "      <td>94</td>\n",
       "    </tr>\n",
       "    <tr>\n",
       "      <th>87</th>\n",
       "      <td>metlif buy citigroup insur us bank giant citig...</td>\n",
       "      <td>4</td>\n",
       "      <td>70</td>\n",
       "    </tr>\n",
       "    <tr>\n",
       "      <th>88</th>\n",
       "      <td>europ blame us weak dollar european leader ope...</td>\n",
       "      <td>4</td>\n",
       "      <td>152</td>\n",
       "    </tr>\n",
       "    <tr>\n",
       "      <th>89</th>\n",
       "      <td>french wine get euro french govern hand strugg...</td>\n",
       "      <td>4</td>\n",
       "      <td>132</td>\n",
       "    </tr>\n",
       "    <tr>\n",
       "      <th>90</th>\n",
       "      <td>russia get invest bless soar oil sale budget s...</td>\n",
       "      <td>4</td>\n",
       "      <td>114</td>\n",
       "    </tr>\n",
       "    <tr>\n",
       "      <th>91</th>\n",
       "      <td>iranian mp threaten mobil deal turkey biggest ...</td>\n",
       "      <td>4</td>\n",
       "      <td>132</td>\n",
       "    </tr>\n",
       "    <tr>\n",
       "      <th>92</th>\n",
       "      <td>argentina close debt swap argentina set close ...</td>\n",
       "      <td>4</td>\n",
       "      <td>122</td>\n",
       "    </tr>\n",
       "  </tbody>\n",
       "</table>\n",
       "</div>"
      ],
      "text/plain": [
       "                                                 text  labels  \\\n",
       "83  mexican us send home mexican labour live us se...       4   \n",
       "84  home loan approv rise number mortgag approv uk...       4   \n",
       "85  manufactur recoveri uk manufactur grew slowest...       4   \n",
       "86  worldcom boss book former worldcom boss berni ...       4   \n",
       "87  metlif buy citigroup insur us bank giant citig...       4   \n",
       "88  europ blame us weak dollar european leader ope...       4   \n",
       "89  french wine get euro french govern hand strugg...       4   \n",
       "90  russia get invest bless soar oil sale budget s...       4   \n",
       "91  iranian mp threaten mobil deal turkey biggest ...       4   \n",
       "92  argentina close debt swap argentina set close ...       4   \n",
       "\n",
       "    number_of_stopwords  \n",
       "83                   73  \n",
       "84                   80  \n",
       "85                   62  \n",
       "86                   94  \n",
       "87                   70  \n",
       "88                  152  \n",
       "89                  132  \n",
       "90                  114  \n",
       "91                  132  \n",
       "92                  122  "
      ]
     },
     "execution_count": 44,
     "metadata": {},
     "output_type": "execute_result"
    }
   ],
   "source": [
    "dfCom.iloc[83:93,:]"
   ]
  },
  {
   "cell_type": "code",
   "execution_count": 45,
   "id": "d78beade",
   "metadata": {
    "scrolled": true
   },
   "outputs": [
    {
     "data": {
      "text/html": [
       "<div>\n",
       "<style scoped>\n",
       "    .dataframe tbody tr th:only-of-type {\n",
       "        vertical-align: middle;\n",
       "    }\n",
       "\n",
       "    .dataframe tbody tr th {\n",
       "        vertical-align: top;\n",
       "    }\n",
       "\n",
       "    .dataframe thead th {\n",
       "        text-align: right;\n",
       "    }\n",
       "</style>\n",
       "<table border=\"1\" class=\"dataframe\">\n",
       "  <thead>\n",
       "    <tr style=\"text-align: right;\">\n",
       "      <th></th>\n",
       "      <th>text</th>\n",
       "      <th>labels</th>\n",
       "      <th>number_of_stopwords</th>\n",
       "    </tr>\n",
       "  </thead>\n",
       "  <tbody>\n",
       "    <tr>\n",
       "      <th>1000</th>\n",
       "      <td>muslim polic stop uk muslim accept peopl islam...</td>\n",
       "      <td>6</td>\n",
       "      <td>228</td>\n",
       "    </tr>\n",
       "    <tr>\n",
       "      <th>1001</th>\n",
       "      <td>howard attack cost asylum michael howard launc...</td>\n",
       "      <td>6</td>\n",
       "      <td>195</td>\n",
       "    </tr>\n",
       "    <tr>\n",
       "      <th>1002</th>\n",
       "      <td>brown outlin third term vision gordon brown ou...</td>\n",
       "      <td>6</td>\n",
       "      <td>133</td>\n",
       "    </tr>\n",
       "    <tr>\n",
       "      <th>1003</th>\n",
       "      <td>union merger plan tout two britain big trade u...</td>\n",
       "      <td>6</td>\n",
       "      <td>71</td>\n",
       "    </tr>\n",
       "    <tr>\n",
       "      <th>1004</th>\n",
       "      <td>uk firm uk firm embrac internet trade opportun...</td>\n",
       "      <td>6</td>\n",
       "      <td>106</td>\n",
       "    </tr>\n",
       "    <tr>\n",
       "      <th>1005</th>\n",
       "      <td>uk head wrong way howard toni blair chanc tack...</td>\n",
       "      <td>6</td>\n",
       "      <td>184</td>\n",
       "    </tr>\n",
       "    <tr>\n",
       "      <th>1006</th>\n",
       "      <td>kilroy launch parti chat show host east midlan...</td>\n",
       "      <td>6</td>\n",
       "      <td>365</td>\n",
       "    </tr>\n",
       "    <tr>\n",
       "      <th>1007</th>\n",
       "      <td>blair blunkett row major voter believ prime mi...</td>\n",
       "      <td>6</td>\n",
       "      <td>131</td>\n",
       "    </tr>\n",
       "    <tr>\n",
       "      <th>1008</th>\n",
       "      <td>mp shock long lost daughter labour mp stephen ...</td>\n",
       "      <td>6</td>\n",
       "      <td>146</td>\n",
       "    </tr>\n",
       "    <tr>\n",
       "      <th>1009</th>\n",
       "      <td>green fear transport ballot green parti concer...</td>\n",
       "      <td>6</td>\n",
       "      <td>133</td>\n",
       "    </tr>\n",
       "  </tbody>\n",
       "</table>\n",
       "</div>"
      ],
      "text/plain": [
       "                                                   text  labels  \\\n",
       "1000  muslim polic stop uk muslim accept peopl islam...       6   \n",
       "1001  howard attack cost asylum michael howard launc...       6   \n",
       "1002  brown outlin third term vision gordon brown ou...       6   \n",
       "1003  union merger plan tout two britain big trade u...       6   \n",
       "1004  uk firm uk firm embrac internet trade opportun...       6   \n",
       "1005  uk head wrong way howard toni blair chanc tack...       6   \n",
       "1006  kilroy launch parti chat show host east midlan...       6   \n",
       "1007  blair blunkett row major voter believ prime mi...       6   \n",
       "1008  mp shock long lost daughter labour mp stephen ...       6   \n",
       "1009  green fear transport ballot green parti concer...       6   \n",
       "\n",
       "      number_of_stopwords  \n",
       "1000                  228  \n",
       "1001                  195  \n",
       "1002                  133  \n",
       "1003                   71  \n",
       "1004                  106  \n",
       "1005                  184  \n",
       "1006                  365  \n",
       "1007                  131  \n",
       "1008                  146  \n",
       "1009                  133  "
      ]
     },
     "execution_count": 45,
     "metadata": {},
     "output_type": "execute_result"
    }
   ],
   "source": [
    "dfCom.iloc[1000:1010,:]\n",
    "#already remove punction here"
   ]
  },
  {
   "cell_type": "code",
   "execution_count": 46,
   "id": "ddb391b9",
   "metadata": {},
   "outputs": [],
   "source": [
    "# vectorizer = TfidfVectorizer(input='content', analyzer = 'word', lowercase=True, stop_words='english',\\\n",
    "#                                    ngram_range=(1, 3), min_df=40, max_df=0.20,\\\n",
    "#                                   norm='l2', use_idf=True, smooth_idf=True, sublinear_tf=True)\n",
    "# txt_vector = vectorizer.fit_transform(dfCom.text)\n",
    "vectorizer = TfidfVectorizer()\n"
   ]
  },
  {
   "cell_type": "code",
   "execution_count": 47,
   "id": "fe171b12",
   "metadata": {},
   "outputs": [],
   "source": [
    "# h = pd.DataFrame(data = txt_vector.todense(),columns = vectorizer.get_feature_names_out())\n",
    "# h.iloc[800:880,0:50]"
   ]
  },
  {
   "cell_type": "code",
   "execution_count": 48,
   "id": "4427e2e0",
   "metadata": {
    "scrolled": true
   },
   "outputs": [
    {
     "data": {
      "text/html": [
       "<div>\n",
       "<style scoped>\n",
       "    .dataframe tbody tr th:only-of-type {\n",
       "        vertical-align: middle;\n",
       "    }\n",
       "\n",
       "    .dataframe tbody tr th {\n",
       "        vertical-align: top;\n",
       "    }\n",
       "\n",
       "    .dataframe thead th {\n",
       "        text-align: right;\n",
       "    }\n",
       "</style>\n",
       "<table border=\"1\" class=\"dataframe\">\n",
       "  <thead>\n",
       "    <tr style=\"text-align: right;\">\n",
       "      <th></th>\n",
       "      <th>text</th>\n",
       "      <th>labels</th>\n",
       "      <th>number_of_stopwords</th>\n",
       "    </tr>\n",
       "  </thead>\n",
       "  <tbody>\n",
       "    <tr>\n",
       "      <th>0</th>\n",
       "      <td>ad sale boost time warner profit quarterli pro...</td>\n",
       "      <td>4</td>\n",
       "      <td>151</td>\n",
       "    </tr>\n",
       "    <tr>\n",
       "      <th>1</th>\n",
       "      <td>dollar gain greenspan speech dollar hit highes...</td>\n",
       "      <td>4</td>\n",
       "      <td>138</td>\n",
       "    </tr>\n",
       "    <tr>\n",
       "      <th>2</th>\n",
       "      <td>yuko unit buyer face loan claim owner embattl ...</td>\n",
       "      <td>4</td>\n",
       "      <td>100</td>\n",
       "    </tr>\n",
       "    <tr>\n",
       "      <th>3</th>\n",
       "      <td>high fuel price hit ba profit british airway b...</td>\n",
       "      <td>4</td>\n",
       "      <td>129</td>\n",
       "    </tr>\n",
       "    <tr>\n",
       "      <th>4</th>\n",
       "      <td>pernod takeov talk lift domecq share uk drink ...</td>\n",
       "      <td>4</td>\n",
       "      <td>91</td>\n",
       "    </tr>\n",
       "  </tbody>\n",
       "</table>\n",
       "</div>"
      ],
      "text/plain": [
       "                                                text  labels  \\\n",
       "0  ad sale boost time warner profit quarterli pro...       4   \n",
       "1  dollar gain greenspan speech dollar hit highes...       4   \n",
       "2  yuko unit buyer face loan claim owner embattl ...       4   \n",
       "3  high fuel price hit ba profit british airway b...       4   \n",
       "4  pernod takeov talk lift domecq share uk drink ...       4   \n",
       "\n",
       "   number_of_stopwords  \n",
       "0                  151  \n",
       "1                  138  \n",
       "2                  100  \n",
       "3                  129  \n",
       "4                   91  "
      ]
     },
     "execution_count": 48,
     "metadata": {},
     "output_type": "execute_result"
    }
   ],
   "source": [
    "dfCom.head()"
   ]
  },
  {
   "cell_type": "code",
   "execution_count": 79,
   "id": "4e37062c",
   "metadata": {
    "scrolled": true
   },
   "outputs": [
    {
     "name": "stderr",
     "output_type": "stream",
     "text": [
      "C:\\Users\\rolld\\AppData\\Local\\Temp\\ipykernel_14272\\3029317135.py:1: FutureWarning: The default value of regex will change from True to False in a future version.\n",
      "  dfCom[\"textd\"] = dfCom['text'].str.lower().str.replace('[^\\w\\s]','')\n"
     ]
    },
    {
     "data": {
      "text/html": [
       "<div>\n",
       "<style scoped>\n",
       "    .dataframe tbody tr th:only-of-type {\n",
       "        vertical-align: middle;\n",
       "    }\n",
       "\n",
       "    .dataframe tbody tr th {\n",
       "        vertical-align: top;\n",
       "    }\n",
       "\n",
       "    .dataframe thead th {\n",
       "        text-align: right;\n",
       "    }\n",
       "</style>\n",
       "<table border=\"1\" class=\"dataframe\">\n",
       "  <thead>\n",
       "    <tr style=\"text-align: right;\">\n",
       "      <th></th>\n",
       "      <th>Word</th>\n",
       "      <th>Frequency</th>\n",
       "    </tr>\n",
       "  </thead>\n",
       "  <tbody>\n",
       "    <tr>\n",
       "      <th>0</th>\n",
       "      <td>said</td>\n",
       "      <td>7537</td>\n",
       "    </tr>\n",
       "    <tr>\n",
       "      <th>1</th>\n",
       "      <td>x</td>\n",
       "      <td>4818</td>\n",
       "    </tr>\n",
       "    <tr>\n",
       "      <th>2</th>\n",
       "      <td>would</td>\n",
       "      <td>3883</td>\n",
       "    </tr>\n",
       "    <tr>\n",
       "      <th>3</th>\n",
       "      <td>use</td>\n",
       "      <td>3476</td>\n",
       "    </tr>\n",
       "    <tr>\n",
       "      <th>4</th>\n",
       "      <td>year</td>\n",
       "      <td>3289</td>\n",
       "    </tr>\n",
       "    <tr>\n",
       "      <th>...</th>\n",
       "      <td>...</td>\n",
       "      <td>...</td>\n",
       "    </tr>\n",
       "    <tr>\n",
       "      <th>25821</th>\n",
       "      <td>candl</td>\n",
       "      <td>1</td>\n",
       "    </tr>\n",
       "    <tr>\n",
       "      <th>25822</th>\n",
       "      <td>fullil</td>\n",
       "      <td>1</td>\n",
       "    </tr>\n",
       "    <tr>\n",
       "      <th>25823</th>\n",
       "      <td>prophisi</td>\n",
       "      <td>1</td>\n",
       "    </tr>\n",
       "    <tr>\n",
       "      <th>25824</th>\n",
       "      <td>ogden</td>\n",
       "      <td>1</td>\n",
       "    </tr>\n",
       "    <tr>\n",
       "      <th>25825</th>\n",
       "      <td>dfio</td>\n",
       "      <td>1</td>\n",
       "    </tr>\n",
       "  </tbody>\n",
       "</table>\n",
       "<p>25826 rows × 2 columns</p>\n",
       "</div>"
      ],
      "text/plain": [
       "           Word  Frequency\n",
       "0          said       7537\n",
       "1             x       4818\n",
       "2         would       3883\n",
       "3           use       3476\n",
       "4          year       3289\n",
       "...         ...        ...\n",
       "25821     candl          1\n",
       "25822    fullil          1\n",
       "25823  prophisi          1\n",
       "25824     ogden          1\n",
       "25825      dfio          1\n",
       "\n",
       "[25826 rows x 2 columns]"
      ]
     },
     "execution_count": 79,
     "metadata": {},
     "output_type": "execute_result"
    }
   ],
   "source": [
    "dfCom[\"textd\"] = dfCom['text'].str.lower().str.replace('[^\\w\\s]','')\n",
    " \n",
    "new_dfCount = dfCom.textd.str.split(expand=True).stack().value_counts().reset_index()\n",
    " \n",
    "new_dfCount.columns = ['Word', 'Frequency'] \n",
    " \n",
    "new_dfCount"
   ]
  },
  {
   "cell_type": "code",
   "execution_count": 80,
   "id": "8eaf553f",
   "metadata": {},
   "outputs": [
    {
     "name": "stdout",
     "output_type": "stream",
     "text": [
      "Total of stop words in the documents: 673255\n"
     ]
    }
   ],
   "source": [
    "TotalS = new_dfCount['Frequency'].sum()\n",
    "print(\"Total of stop words in the documents:\", TotalS)"
   ]
  },
  {
   "cell_type": "code",
   "execution_count": 75,
   "id": "4d2f565c",
   "metadata": {},
   "outputs": [],
   "source": [
    "countwords = counts(dfCom.text)"
   ]
  },
  {
   "cell_type": "code",
   "execution_count": 77,
   "id": "83df1e58",
   "metadata": {},
   "outputs": [
    {
     "name": "stdout",
     "output_type": "stream",
     "text": [
      "(4467,)\n"
     ]
    }
   ],
   "source": [
    "print(countwords.shape)"
   ]
  },
  {
   "cell_type": "code",
   "execution_count": 49,
   "id": "b40e2023",
   "metadata": {
    "scrolled": true
   },
   "outputs": [
    {
     "data": {
      "text/html": [
       "<div>\n",
       "<style scoped>\n",
       "    .dataframe tbody tr th:only-of-type {\n",
       "        vertical-align: middle;\n",
       "    }\n",
       "\n",
       "    .dataframe tbody tr th {\n",
       "        vertical-align: top;\n",
       "    }\n",
       "\n",
       "    .dataframe thead th {\n",
       "        text-align: right;\n",
       "    }\n",
       "</style>\n",
       "<table border=\"1\" class=\"dataframe\">\n",
       "  <thead>\n",
       "    <tr style=\"text-align: right;\">\n",
       "      <th></th>\n",
       "      <th>text</th>\n",
       "      <th>labels</th>\n",
       "      <th>number_of_stopwords</th>\n",
       "    </tr>\n",
       "  </thead>\n",
       "  <tbody>\n",
       "    <tr>\n",
       "      <th>4462</th>\n",
       "      <td>hi write applic requir embed pseudo tti wheel ...</td>\n",
       "      <td>1</td>\n",
       "      <td>25</td>\n",
       "    </tr>\n",
       "    <tr>\n",
       "      <th>4463</th>\n",
       "      <td>someth happen south africa year ago dealer sol...</td>\n",
       "      <td>2</td>\n",
       "      <td>42</td>\n",
       "    </tr>\n",
       "    <tr>\n",
       "      <th>4464</th>\n",
       "      <td>someth go seem month vw group must get specif ...</td>\n",
       "      <td>2</td>\n",
       "      <td>14</td>\n",
       "    </tr>\n",
       "    <tr>\n",
       "      <th>4465</th>\n",
       "      <td>unabl get com work diagnost program msd show n...</td>\n",
       "      <td>0</td>\n",
       "      <td>26</td>\n",
       "    </tr>\n",
       "    <tr>\n",
       "      <th>4466</th>\n",
       "      <td>ite</td>\n",
       "      <td>2</td>\n",
       "      <td>0</td>\n",
       "    </tr>\n",
       "  </tbody>\n",
       "</table>\n",
       "</div>"
      ],
      "text/plain": [
       "                                                   text  labels  \\\n",
       "4462  hi write applic requir embed pseudo tti wheel ...       1   \n",
       "4463  someth happen south africa year ago dealer sol...       2   \n",
       "4464  someth go seem month vw group must get specif ...       2   \n",
       "4465  unabl get com work diagnost program msd show n...       0   \n",
       "4466                                                ite       2   \n",
       "\n",
       "      number_of_stopwords  \n",
       "4462                   25  \n",
       "4463                   42  \n",
       "4464                   14  \n",
       "4465                   26  \n",
       "4466                    0  "
      ]
     },
     "execution_count": 49,
     "metadata": {},
     "output_type": "execute_result"
    }
   ],
   "source": [
    "dfCom.tail()"
   ]
  },
  {
   "cell_type": "code",
   "execution_count": 50,
   "id": "e9dc3cf7",
   "metadata": {},
   "outputs": [
    {
     "data": {
      "text/plain": [
       "4467"
      ]
     },
     "execution_count": 50,
     "metadata": {},
     "output_type": "execute_result"
    }
   ],
   "source": [
    "len(dfCom)"
   ]
  },
  {
   "cell_type": "code",
   "execution_count": 51,
   "id": "f174dd19",
   "metadata": {},
   "outputs": [],
   "source": [
    "x = vectorizer.fit_transform(dfComPP)\n",
    "y = dfCom.labels.values"
   ]
  },
  {
   "cell_type": "code",
   "execution_count": 52,
   "id": "7049ffa7",
   "metadata": {},
   "outputs": [
    {
     "name": "stdout",
     "output_type": "stream",
     "text": [
      "(4467, 25807)\n"
     ]
    }
   ],
   "source": [
    "print(x.shape)"
   ]
  },
  {
   "cell_type": "code",
   "execution_count": 53,
   "id": "ff5f03f2",
   "metadata": {},
   "outputs": [
    {
     "name": "stderr",
     "output_type": "stream",
     "text": [
      "C:\\Users\\rolld\\anaconda3\\lib\\site-packages\\sklearn\\utils\\deprecation.py:87: FutureWarning: Function get_feature_names is deprecated; get_feature_names is deprecated in 1.0 and will be removed in 1.2. Please use get_feature_names_out instead.\n",
      "  warnings.warn(msg, category=FutureWarning)\n"
     ]
    },
    {
     "data": {
      "text/html": [
       "<div>\n",
       "<style scoped>\n",
       "    .dataframe tbody tr th:only-of-type {\n",
       "        vertical-align: middle;\n",
       "    }\n",
       "\n",
       "    .dataframe tbody tr th {\n",
       "        vertical-align: top;\n",
       "    }\n",
       "\n",
       "    .dataframe thead th {\n",
       "        text-align: right;\n",
       "    }\n",
       "</style>\n",
       "<table border=\"1\" class=\"dataframe\">\n",
       "  <thead>\n",
       "    <tr style=\"text-align: right;\">\n",
       "      <th></th>\n",
       "      <th>term</th>\n",
       "      <th>weight</th>\n",
       "    </tr>\n",
       "  </thead>\n",
       "  <tbody>\n",
       "    <tr>\n",
       "      <th>19172</th>\n",
       "      <td>said</td>\n",
       "      <td>0.028541</td>\n",
       "    </tr>\n",
       "    <tr>\n",
       "      <th>24784</th>\n",
       "      <td>would</td>\n",
       "      <td>0.019383</td>\n",
       "    </tr>\n",
       "    <tr>\n",
       "      <th>23580</th>\n",
       "      <td>use</td>\n",
       "      <td>0.018596</td>\n",
       "    </tr>\n",
       "    <tr>\n",
       "      <th>14682</th>\n",
       "      <td>mr</td>\n",
       "      <td>0.015969</td>\n",
       "    </tr>\n",
       "    <tr>\n",
       "      <th>15735</th>\n",
       "      <td>one</td>\n",
       "      <td>0.015249</td>\n",
       "    </tr>\n",
       "    <tr>\n",
       "      <th>25613</th>\n",
       "      <td>year</td>\n",
       "      <td>0.015222</td>\n",
       "    </tr>\n",
       "    <tr>\n",
       "      <th>8825</th>\n",
       "      <td>get</td>\n",
       "      <td>0.014715</td>\n",
       "    </tr>\n",
       "    <tr>\n",
       "      <th>16571</th>\n",
       "      <td>peopl</td>\n",
       "      <td>0.013892</td>\n",
       "    </tr>\n",
       "    <tr>\n",
       "      <th>12789</th>\n",
       "      <td>like</td>\n",
       "      <td>0.013548</td>\n",
       "    </tr>\n",
       "    <tr>\n",
       "      <th>635</th>\n",
       "      <td>also</td>\n",
       "      <td>0.013264</td>\n",
       "    </tr>\n",
       "  </tbody>\n",
       "</table>\n",
       "</div>"
      ],
      "text/plain": [
       "        term    weight\n",
       "19172   said  0.028541\n",
       "24784  would  0.019383\n",
       "23580    use  0.018596\n",
       "14682     mr  0.015969\n",
       "15735    one  0.015249\n",
       "25613   year  0.015222\n",
       "8825     get  0.014715\n",
       "16571  peopl  0.013892\n",
       "12789   like  0.013548\n",
       "635     also  0.013264"
      ]
     },
     "execution_count": 53,
     "metadata": {},
     "output_type": "execute_result"
    }
   ],
   "source": [
    "weights = np.asarray(x.mean(axis=0)).ravel().tolist()\n",
    "weights_df = pd.DataFrame({'term': vectorizer.get_feature_names(), 'weight': weights})\n",
    "weights_df.sort_values(by='weight', ascending=False).head(10)"
   ]
  },
  {
   "cell_type": "code",
   "execution_count": 54,
   "id": "aa7e31c9",
   "metadata": {},
   "outputs": [
    {
     "data": {
      "text/html": [
       "<div>\n",
       "<style scoped>\n",
       "    .dataframe tbody tr th:only-of-type {\n",
       "        vertical-align: middle;\n",
       "    }\n",
       "\n",
       "    .dataframe tbody tr th {\n",
       "        vertical-align: top;\n",
       "    }\n",
       "\n",
       "    .dataframe thead th {\n",
       "        text-align: right;\n",
       "    }\n",
       "</style>\n",
       "<table border=\"1\" class=\"dataframe\">\n",
       "  <thead>\n",
       "    <tr style=\"text-align: right;\">\n",
       "      <th></th>\n",
       "      <th>term</th>\n",
       "      <th>weight</th>\n",
       "    </tr>\n",
       "  </thead>\n",
       "  <tbody>\n",
       "    <tr>\n",
       "      <th>23620</th>\n",
       "      <td>utzoo</td>\n",
       "      <td>0.000001</td>\n",
       "    </tr>\n",
       "    <tr>\n",
       "      <th>16122</th>\n",
       "      <td>pacbel</td>\n",
       "      <td>0.000001</td>\n",
       "    </tr>\n",
       "    <tr>\n",
       "      <th>19425</th>\n",
       "      <td>schism</td>\n",
       "      <td>0.000001</td>\n",
       "    </tr>\n",
       "    <tr>\n",
       "      <th>10711</th>\n",
       "      <td>immov</td>\n",
       "      <td>0.000001</td>\n",
       "    </tr>\n",
       "    <tr>\n",
       "      <th>15841</th>\n",
       "      <td>oregonian</td>\n",
       "      <td>0.000001</td>\n",
       "    </tr>\n",
       "    <tr>\n",
       "      <th>18481</th>\n",
       "      <td>repudi</td>\n",
       "      <td>0.000001</td>\n",
       "    </tr>\n",
       "    <tr>\n",
       "      <th>2947</th>\n",
       "      <td>btu</td>\n",
       "      <td>0.000001</td>\n",
       "    </tr>\n",
       "    <tr>\n",
       "      <th>14059</th>\n",
       "      <td>metaphys</td>\n",
       "      <td>0.000001</td>\n",
       "    </tr>\n",
       "    <tr>\n",
       "      <th>11810</th>\n",
       "      <td>kantor</td>\n",
       "      <td>0.000001</td>\n",
       "    </tr>\n",
       "    <tr>\n",
       "      <th>22758</th>\n",
       "      <td>trilater</td>\n",
       "      <td>0.000001</td>\n",
       "    </tr>\n",
       "  </tbody>\n",
       "</table>\n",
       "</div>"
      ],
      "text/plain": [
       "            term    weight\n",
       "23620      utzoo  0.000001\n",
       "16122     pacbel  0.000001\n",
       "19425     schism  0.000001\n",
       "10711      immov  0.000001\n",
       "15841  oregonian  0.000001\n",
       "18481     repudi  0.000001\n",
       "2947         btu  0.000001\n",
       "14059   metaphys  0.000001\n",
       "11810     kantor  0.000001\n",
       "22758   trilater  0.000001"
      ]
     },
     "execution_count": 54,
     "metadata": {},
     "output_type": "execute_result"
    }
   ],
   "source": [
    "weights_df.sort_values(by='weight', ascending=True).head(10)"
   ]
  },
  {
   "cell_type": "code",
   "execution_count": 55,
   "id": "94ff82ad",
   "metadata": {},
   "outputs": [],
   "source": [
    "# doc = 0\n",
    "# feature_index = x[doc,:].nonzero()[1]\n",
    "# tfidf_scores = zip(feature_index, [x[doc, s] for s in feature_index])\n"
   ]
  },
  {
   "cell_type": "code",
   "execution_count": 56,
   "id": "2117d32f",
   "metadata": {},
   "outputs": [],
   "source": [
    "# print(dfTF)"
   ]
  },
  {
   "cell_type": "code",
   "execution_count": 57,
   "id": "1b731ace",
   "metadata": {},
   "outputs": [],
   "source": [
    "# for w, s in [(featureNames[i], s) for (i, s) in tfidf_scores]:\n",
    "#     dfTF = pd.DataFrame()\n",
    "#     print (w, s)"
   ]
  },
  {
   "cell_type": "code",
   "execution_count": null,
   "id": "b7b4f102",
   "metadata": {},
   "outputs": [],
   "source": []
  },
  {
   "cell_type": "code",
   "execution_count": 58,
   "id": "98fa6d1e",
   "metadata": {
    "scrolled": false
   },
   "outputs": [
    {
     "data": {
      "text/html": [
       "<div>\n",
       "<style scoped>\n",
       "    .dataframe tbody tr th:only-of-type {\n",
       "        vertical-align: middle;\n",
       "    }\n",
       "\n",
       "    .dataframe tbody tr th {\n",
       "        vertical-align: top;\n",
       "    }\n",
       "\n",
       "    .dataframe thead th {\n",
       "        text-align: right;\n",
       "    }\n",
       "</style>\n",
       "<table border=\"1\" class=\"dataframe\">\n",
       "  <thead>\n",
       "    <tr style=\"text-align: right;\">\n",
       "      <th></th>\n",
       "      <th>text</th>\n",
       "      <th>labels</th>\n",
       "      <th>number_of_stopwords</th>\n",
       "    </tr>\n",
       "  </thead>\n",
       "  <tbody>\n",
       "    <tr>\n",
       "      <th>998</th>\n",
       "      <td>minimum rate foster parent foster carer guaran...</td>\n",
       "      <td>6</td>\n",
       "      <td>140</td>\n",
       "    </tr>\n",
       "    <tr>\n",
       "      <th>999</th>\n",
       "      <td>royal coupl watch nation mood princ charl cami...</td>\n",
       "      <td>6</td>\n",
       "      <td>173</td>\n",
       "    </tr>\n",
       "    <tr>\n",
       "      <th>1000</th>\n",
       "      <td>muslim polic stop uk muslim accept peopl islam...</td>\n",
       "      <td>6</td>\n",
       "      <td>228</td>\n",
       "    </tr>\n",
       "    <tr>\n",
       "      <th>1001</th>\n",
       "      <td>howard attack cost asylum michael howard launc...</td>\n",
       "      <td>6</td>\n",
       "      <td>195</td>\n",
       "    </tr>\n",
       "  </tbody>\n",
       "</table>\n",
       "</div>"
      ],
      "text/plain": [
       "                                                   text  labels  \\\n",
       "998   minimum rate foster parent foster carer guaran...       6   \n",
       "999   royal coupl watch nation mood princ charl cami...       6   \n",
       "1000  muslim polic stop uk muslim accept peopl islam...       6   \n",
       "1001  howard attack cost asylum michael howard launc...       6   \n",
       "\n",
       "      number_of_stopwords  \n",
       "998                   140  \n",
       "999                   173  \n",
       "1000                  228  \n",
       "1001                  195  "
      ]
     },
     "execution_count": 58,
     "metadata": {},
     "output_type": "execute_result"
    }
   ],
   "source": [
    "dfCom.iloc[998:1002,:]"
   ]
  },
  {
   "cell_type": "code",
   "execution_count": 59,
   "id": "f7def8ff",
   "metadata": {},
   "outputs": [
    {
     "data": {
      "text/html": [
       "<div>\n",
       "<style scoped>\n",
       "    .dataframe tbody tr th:only-of-type {\n",
       "        vertical-align: middle;\n",
       "    }\n",
       "\n",
       "    .dataframe tbody tr th {\n",
       "        vertical-align: top;\n",
       "    }\n",
       "\n",
       "    .dataframe thead th {\n",
       "        text-align: right;\n",
       "    }\n",
       "</style>\n",
       "<table border=\"1\" class=\"dataframe\">\n",
       "  <thead>\n",
       "    <tr style=\"text-align: right;\">\n",
       "      <th></th>\n",
       "      <th>appal</th>\n",
       "      <th>appar</th>\n",
       "      <th>apparantli</th>\n",
       "      <th>apparatu</th>\n",
       "      <th>apparel</th>\n",
       "      <th>appast</th>\n",
       "      <th>appeal</th>\n",
       "      <th>appear</th>\n",
       "      <th>appel</th>\n",
       "      <th>appela</th>\n",
       "    </tr>\n",
       "  </thead>\n",
       "  <tbody>\n",
       "    <tr>\n",
       "      <th>0</th>\n",
       "      <td>0.0</td>\n",
       "      <td>0.000000</td>\n",
       "      <td>0.0</td>\n",
       "      <td>0.0</td>\n",
       "      <td>0.0</td>\n",
       "      <td>0.0</td>\n",
       "      <td>0.000000</td>\n",
       "      <td>0.0</td>\n",
       "      <td>0.0</td>\n",
       "      <td>0.0</td>\n",
       "    </tr>\n",
       "    <tr>\n",
       "      <th>1</th>\n",
       "      <td>0.0</td>\n",
       "      <td>0.000000</td>\n",
       "      <td>0.0</td>\n",
       "      <td>0.0</td>\n",
       "      <td>0.0</td>\n",
       "      <td>0.0</td>\n",
       "      <td>0.000000</td>\n",
       "      <td>0.0</td>\n",
       "      <td>0.0</td>\n",
       "      <td>0.0</td>\n",
       "    </tr>\n",
       "    <tr>\n",
       "      <th>2</th>\n",
       "      <td>0.0</td>\n",
       "      <td>0.000000</td>\n",
       "      <td>0.0</td>\n",
       "      <td>0.0</td>\n",
       "      <td>0.0</td>\n",
       "      <td>0.0</td>\n",
       "      <td>0.000000</td>\n",
       "      <td>0.0</td>\n",
       "      <td>0.0</td>\n",
       "      <td>0.0</td>\n",
       "    </tr>\n",
       "    <tr>\n",
       "      <th>3</th>\n",
       "      <td>0.0</td>\n",
       "      <td>0.000000</td>\n",
       "      <td>0.0</td>\n",
       "      <td>0.0</td>\n",
       "      <td>0.0</td>\n",
       "      <td>0.0</td>\n",
       "      <td>0.000000</td>\n",
       "      <td>0.0</td>\n",
       "      <td>0.0</td>\n",
       "      <td>0.0</td>\n",
       "    </tr>\n",
       "    <tr>\n",
       "      <th>4</th>\n",
       "      <td>0.0</td>\n",
       "      <td>0.000000</td>\n",
       "      <td>0.0</td>\n",
       "      <td>0.0</td>\n",
       "      <td>0.0</td>\n",
       "      <td>0.0</td>\n",
       "      <td>0.000000</td>\n",
       "      <td>0.0</td>\n",
       "      <td>0.0</td>\n",
       "      <td>0.0</td>\n",
       "    </tr>\n",
       "    <tr>\n",
       "      <th>5</th>\n",
       "      <td>0.0</td>\n",
       "      <td>0.083138</td>\n",
       "      <td>0.0</td>\n",
       "      <td>0.0</td>\n",
       "      <td>0.0</td>\n",
       "      <td>0.0</td>\n",
       "      <td>0.000000</td>\n",
       "      <td>0.0</td>\n",
       "      <td>0.0</td>\n",
       "      <td>0.0</td>\n",
       "    </tr>\n",
       "    <tr>\n",
       "      <th>6</th>\n",
       "      <td>0.0</td>\n",
       "      <td>0.000000</td>\n",
       "      <td>0.0</td>\n",
       "      <td>0.0</td>\n",
       "      <td>0.0</td>\n",
       "      <td>0.0</td>\n",
       "      <td>0.000000</td>\n",
       "      <td>0.0</td>\n",
       "      <td>0.0</td>\n",
       "      <td>0.0</td>\n",
       "    </tr>\n",
       "    <tr>\n",
       "      <th>7</th>\n",
       "      <td>0.0</td>\n",
       "      <td>0.000000</td>\n",
       "      <td>0.0</td>\n",
       "      <td>0.0</td>\n",
       "      <td>0.0</td>\n",
       "      <td>0.0</td>\n",
       "      <td>0.000000</td>\n",
       "      <td>0.0</td>\n",
       "      <td>0.0</td>\n",
       "      <td>0.0</td>\n",
       "    </tr>\n",
       "    <tr>\n",
       "      <th>8</th>\n",
       "      <td>0.0</td>\n",
       "      <td>0.000000</td>\n",
       "      <td>0.0</td>\n",
       "      <td>0.0</td>\n",
       "      <td>0.0</td>\n",
       "      <td>0.0</td>\n",
       "      <td>0.000000</td>\n",
       "      <td>0.0</td>\n",
       "      <td>0.0</td>\n",
       "      <td>0.0</td>\n",
       "    </tr>\n",
       "    <tr>\n",
       "      <th>9</th>\n",
       "      <td>0.0</td>\n",
       "      <td>0.000000</td>\n",
       "      <td>0.0</td>\n",
       "      <td>0.0</td>\n",
       "      <td>0.0</td>\n",
       "      <td>0.0</td>\n",
       "      <td>0.113487</td>\n",
       "      <td>0.0</td>\n",
       "      <td>0.0</td>\n",
       "      <td>0.0</td>\n",
       "    </tr>\n",
       "  </tbody>\n",
       "</table>\n",
       "</div>"
      ],
      "text/plain": [
       "   appal     appar  apparantli  apparatu  apparel  appast    appeal  appear  \\\n",
       "0    0.0  0.000000         0.0       0.0      0.0     0.0  0.000000     0.0   \n",
       "1    0.0  0.000000         0.0       0.0      0.0     0.0  0.000000     0.0   \n",
       "2    0.0  0.000000         0.0       0.0      0.0     0.0  0.000000     0.0   \n",
       "3    0.0  0.000000         0.0       0.0      0.0     0.0  0.000000     0.0   \n",
       "4    0.0  0.000000         0.0       0.0      0.0     0.0  0.000000     0.0   \n",
       "5    0.0  0.083138         0.0       0.0      0.0     0.0  0.000000     0.0   \n",
       "6    0.0  0.000000         0.0       0.0      0.0     0.0  0.000000     0.0   \n",
       "7    0.0  0.000000         0.0       0.0      0.0     0.0  0.000000     0.0   \n",
       "8    0.0  0.000000         0.0       0.0      0.0     0.0  0.000000     0.0   \n",
       "9    0.0  0.000000         0.0       0.0      0.0     0.0  0.113487     0.0   \n",
       "\n",
       "   appel  appela  \n",
       "0    0.0     0.0  \n",
       "1    0.0     0.0  \n",
       "2    0.0     0.0  \n",
       "3    0.0     0.0  \n",
       "4    0.0     0.0  \n",
       "5    0.0     0.0  \n",
       "6    0.0     0.0  \n",
       "7    0.0     0.0  \n",
       "8    0.0     0.0  \n",
       "9    0.0     0.0  "
      ]
     },
     "execution_count": 59,
     "metadata": {},
     "output_type": "execute_result"
    }
   ],
   "source": [
    "h = pd.DataFrame(data = x.todense(),columns = vectorizer.get_feature_names_out())\n",
    "h.iloc[0:10,990:1000]"
   ]
  },
  {
   "cell_type": "code",
   "execution_count": 60,
   "id": "5cbfefaa",
   "metadata": {},
   "outputs": [],
   "source": [
    "trainX, testX, trainY, testY = train_test_split(x,y, test_size = 0.2, \n",
    "                                                random_state = 32)\n",
    "# n = round(xVec.shape[0]*0.6)\n",
    "# trainX = xVec[0:n]\n",
    "# trainY = y[0:n]\n",
    "# testX = xVec[n:]\n",
    "# testY = y[n:]"
   ]
  },
  {
   "cell_type": "code",
   "execution_count": 61,
   "id": "25a56eb9",
   "metadata": {},
   "outputs": [
    {
     "name": "stdout",
     "output_type": "stream",
     "text": [
      "Train Data: (3573, 25807)\n",
      "Test Data: (894, 25807)\n"
     ]
    }
   ],
   "source": [
    "print(\"Train Data:\", trainX.shape)\n",
    "print(\"Test Data:\", testX.shape)"
   ]
  },
  {
   "cell_type": "markdown",
   "id": "b307da4b",
   "metadata": {},
   "source": [
    "# CHI2"
   ]
  },
  {
   "cell_type": "code",
   "execution_count": 62,
   "id": "8ccc014a",
   "metadata": {},
   "outputs": [],
   "source": [
    "# from sklearn.feature_selection._univariate_selection import SelectKBest, chi2\n",
    "# ch2 = SelectKBest(chi2, k=1000)\n",
    "# trainX = ch2.fit_transform(trainX, trainY)\n",
    "# testX = ch2.transform(testX)"
   ]
  },
  {
   "cell_type": "markdown",
   "id": "8010f896",
   "metadata": {},
   "source": [
    "# MACHINE LEARNING "
   ]
  },
  {
   "cell_type": "code",
   "execution_count": 63,
   "id": "1a47400b",
   "metadata": {},
   "outputs": [
    {
     "name": "stdout",
     "output_type": "stream",
     "text": [
      "0.8903803131991052\n"
     ]
    }
   ],
   "source": [
    "RFC = RandomForestClassifier(random_state=2)\n",
    "RFC.fit(trainX,trainY)\n",
    "RFCpredict = RFC.predict(testX)\n",
    "print(RFC.score(testX,testY))\n",
    "#print(f\"Accuracy: {RFC.score(testX,testY)*100:.3f}%\")"
   ]
  },
  {
   "cell_type": "code",
   "execution_count": 64,
   "id": "bf1ed128",
   "metadata": {},
   "outputs": [
    {
     "name": "stdout",
     "output_type": "stream",
     "text": [
      "0.9463087248322147\n"
     ]
    }
   ],
   "source": [
    "LSVC = LinearSVC()\n",
    "LSVC.fit(trainX,trainY)\n",
    "LSVCpredict = LSVC.predict(testX)\n",
    "print(LSVC.score(testX,testY))"
   ]
  },
  {
   "cell_type": "code",
   "execution_count": 65,
   "id": "d0f906e4",
   "metadata": {},
   "outputs": [],
   "source": [
    "# for labels in np.unique(dfCom['labels']):\n",
    "#     print(labels)"
   ]
  },
  {
   "cell_type": "code",
   "execution_count": 66,
   "id": "95ec00b4",
   "metadata": {},
   "outputs": [],
   "source": [
    "# print(classification_report(RFC.predict(testX),testY))\n",
    "# plt.figure(figsize = (12, 8))\n",
    "# np_y_test = np.array(testY)\n",
    "# proba = RFC.predict_proba(testX)\n",
    "# for i in range(len(RFC.classes_)):\n",
    "#     fper, tper, thresholds = roc_curve(np_y_test == clf.classes_[i], proba[:,i]) \n",
    "#     plt.subplot(2, 3, i+1)\n",
    "    \n",
    "#     plt.plot(fper, tper, color='orange', label='ROC')\n",
    "#     plt.plot([0, 1], [0, 1], color='darkblue', linestyle='--')\n",
    "#     plt.xlabel('False Positive Rate')\n",
    "#     plt.ylabel('True Positive Rate')\n",
    "#     plt.title(f\"{clf.classes_[i]} ROC\")\n",
    "#     plt.legend()\n",
    "\n",
    "# plt.tight_layout()"
   ]
  },
  {
   "cell_type": "code",
   "execution_count": 67,
   "id": "3c827828",
   "metadata": {},
   "outputs": [],
   "source": [
    "# from sklearn import metrics\n",
    "# targetnames = ['alt.atheism',\n",
    "#  'comp.graphics',\n",
    "#  'comp.os.ms-windows.misc',\n",
    "#  'comp.sys.ibm.pc.hardware',\n",
    "#  'comp.sys.mac.hardware',\n",
    "#  'comp.windows.x',\n",
    "#  'misc.forsale',\n",
    "#  'rec.autos',\n",
    "#  'rec.motorcycles',\n",
    "#  'rec.sport.baseball',\n",
    "#  'rec.sport.hockey',\n",
    "#  'sci.crypt',\n",
    "#  'sci.electronics',\n",
    "#  'sci.med',\n",
    "#  'sci.space',\n",
    "#  'soc.religion.christian',\n",
    "#  'talk.politics.guns',\n",
    "#  'talk.politics.mideast',\n",
    "#  'talk.politics.misc',\n",
    "#  'talk.religion.misc','bbc.business','bbc.entertainment','bbc.politics','bbc.sport','bbc.tech']\n",
    "\n",
    "# print(\"Random Forest Classifier\")\n",
    "# print(\"accuracy: %0.3f\" % metrics.accuracy_score(testY, RFCpredict))\n",
    "# #print(metrics.confusion_matrix(testY, RFCpredict))\n",
    "# print(metrics.classification_report(testY, RFCpredict,target_names=targetnames))\n",
    "\n"
   ]
  },
  {
   "cell_type": "code",
   "execution_count": 68,
   "id": "5b432603",
   "metadata": {},
   "outputs": [
    {
     "name": "stdout",
     "output_type": "stream",
     "text": [
      "Linear Support Vector Classifier\n",
      "accuracy: 0.946\n",
      "                          precision    recall  f1-score   support\n",
      "\n",
      "comp.sys.ibm.pc.hardware       0.90      0.92      0.91       115\n",
      "          comp.windows.x       0.95      0.92      0.94       103\n",
      "               rec.autos       0.86      0.90      0.88       130\n",
      "      talk.politics.misc       0.97      0.89      0.93        95\n",
      "            bbc.business       0.98      0.95      0.97       109\n",
      "       bbc.entertainment       0.99      1.00      0.99        67\n",
      "            bbc.politics       0.96      0.99      0.98        82\n",
      "               bbc.sport       0.99      1.00      1.00       120\n",
      "                bbc.tech       0.97      0.97      0.97        73\n",
      "\n",
      "                accuracy                           0.95       894\n",
      "               macro avg       0.95      0.95      0.95       894\n",
      "            weighted avg       0.95      0.95      0.95       894\n",
      "\n"
     ]
    }
   ],
   "source": [
    "from sklearn import metrics\n",
    "# targetnames = ['alt.atheism',\n",
    "#  'comp.graphics',\n",
    "#  'comp.os.ms-windows.misc',\n",
    "#  'comp.sys.ibm.pc.hardware',\n",
    "#  'comp.sys.mac.hardware',\n",
    "#  'comp.windows.x',\n",
    "#  'misc.forsale',\n",
    "#  'rec.autos',\n",
    "#  'rec.motorcycles',\n",
    "#  'rec.sport.baseball',\n",
    "#  'rec.sport.hockey',\n",
    "#  'sci.crypt',\n",
    "#  'sci.electronics',\n",
    "#  'sci.med',\n",
    "#  'sci.space',\n",
    "#  'soc.religion.christian',\n",
    "#  'talk.politics.guns',\n",
    "#  'talk.politics.mideast',\n",
    "#  'talk.politics.misc',\n",
    "#  'talk.religion.misc','bbc.business','bbc.entertainment','bbc.politics','bbc.sport','bbc.tech']\n",
    "\n",
    "targetnames = ['comp.sys.ibm.pc.hardware',\n",
    "            'comp.windows.x','rec.autos','talk.politics.misc','bbc.business',\n",
    "               'bbc.entertainment',\n",
    "               'bbc.politics','bbc.sport','bbc.tech']\n",
    "\n",
    "\n",
    "print(\"Linear Support Vector Classifier\")\n",
    "print(\"accuracy: %0.3f\" % metrics.accuracy_score(testY, LSVCpredict))\n",
    "#print(metrics.confusion_matrix(testY, RFCpredict))\n",
    "print(metrics.classification_report(testY, LSVCpredict, target_names=targetnames))\n",
    "\n",
    "#target_names=targetnames"
   ]
  },
  {
   "cell_type": "code",
   "execution_count": 69,
   "id": "2c1cb0ca",
   "metadata": {},
   "outputs": [],
   "source": [
    "# cm = metrics.confusion_matrix(testY, RFCpredict)"
   ]
  },
  {
   "cell_type": "code",
   "execution_count": 70,
   "id": "7cd04575",
   "metadata": {},
   "outputs": [],
   "source": [
    "# #cm_display = metrics.ConfusionMatrixDisplay(confusion_matrix = cm, display_labels = targetnames)\n",
    "# cm_display = metrics.ConfusionMatrixDisplay(confusion_matrix = cm)\n",
    "# cm_display.plot()\n",
    "# plt.show()\n",
    "\n"
   ]
  },
  {
   "cell_type": "code",
   "execution_count": 71,
   "id": "65807c51",
   "metadata": {},
   "outputs": [
    {
     "data": {
      "image/png": "[encoded data removed]",
      "text/plain": [
       "<Figure size 640x480 with 2 Axes>"
      ]
     },
     "metadata": {},
     "output_type": "display_data"
    }
   ],
   "source": [
    "cmSVC = metrics.confusion_matrix(testY, LSVCpredict)\n",
    "#cm_display = metrics.ConfusionMatrixDisplay(confusion_matrix = cm, display_labels = targetnames)\n",
    "cm_display = metrics.ConfusionMatrixDisplay(confusion_matrix = cmSVC, display_labels = targetnames)\n",
    "cm_display.plot()\n",
    "plt.show()"
   ]
  },
  {
   "cell_type": "code",
   "execution_count": 72,
   "id": "4c9cc6bd",
   "metadata": {},
   "outputs": [],
   "source": [
    "# Reference\n",
    "# 0 = alt.atheism',\n",
    "# 1 = comp.graphics',\n",
    "# 2 = comp.os.ms-windows.misc',\n",
    "# 3 = comp.sys.ibm.pc.hardware',\n",
    "# 4 = comp.sys.mac.hardware',\n",
    "# 5 = comp.windows.x',\n",
    "# 6 = misc.forsale',\n",
    "# 7 = rec.autos',\n",
    "# 8 = rec.motorcycles',\n",
    "# 9 = rec.sport.baseball',\n",
    "# 10 = rec.sport.hockey',\n",
    "# 11 = sci.crypt',\n",
    "# 12 = sci.electronics',\n",
    "# 13 = sci.med',\n",
    "# 14 = sci.space',\n",
    "# 15 = soc.religion.christian',\n",
    "# 16 = talk.politics.guns',\n",
    "# 17 = talk.politics.mideast',\n",
    "# 18 = talk.politics.misc',\n",
    "# 19 = talk.religion.misc\n",
    "# 20 = bbc.business','\n",
    "# 21 = bbc.entertainment','\n",
    "# 22 = bbc.politics\n",
    "# 23 = bbc.sport\n",
    "# 24 = bbc.tech\n"
   ]
  },
  {
   "cell_type": "code",
   "execution_count": 73,
   "id": "640758e7",
   "metadata": {},
   "outputs": [
    {
     "name": "stdout",
     "output_type": "stream",
     "text": [
      "[[106   3   5   0   0   0   1   0   0]\n",
      " [  4  95   3   0   0   0   0   0   1]\n",
      " [  7   2 117   3   1   0   0   0   0]\n",
      " [  1   0   8  85   0   1   0   0   0]\n",
      " [  0   0   3   0 104   0   1   0   1]\n",
      " [  0   0   0   0   0  67   0   0   0]\n",
      " [  0   0   0   0   1   0  81   0   0]\n",
      " [  0   0   0   0   0   0   0 120   0]\n",
      " [  0   0   0   0   0   0   1   1  71]]\n"
     ]
    }
   ],
   "source": [
    "print(metrics.confusion_matrix(testY, LSVCpredict))"
   ]
  },
  {
   "cell_type": "code",
   "execution_count": null,
   "id": "bfc85c56",
   "metadata": {},
   "outputs": [],
   "source": []
  }
 ],
 "metadata": {
  "kernelspec": {
   "display_name": "Python 3 (ipykernel)",
   "language": "python",
   "name": "python3"
  },
  "language_info": {
   "codemirror_mode": {
    "name": "ipython",
    "version": 3
   },
   "file_extension": ".py",
   "mimetype": "text/x-python",
   "name": "python",
   "nbconvert_exporter": "python",
   "pygments_lexer": "ipython3",
   "version": "3.9.13"
  }
 },
 "nbformat": 4,
 "nbformat_minor": 5
}
